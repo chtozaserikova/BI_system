{
 "cells": [
  {
   "cell_type": "code",
   "execution_count": 1,
   "metadata": {},
   "outputs": [
    {
     "name": "stderr",
     "output_type": "stream",
     "text": [
      "c:\\Users\\Sveta\\projects\\BI_system\\venv\\lib\\site-packages\\tqdm\\auto.py:22: TqdmWarning: IProgress not found. Please update jupyter and ipywidgets. See https://ipywidgets.readthedocs.io/en/stable/user_install.html\n",
      "  from .autonotebook import tqdm as notebook_tqdm\n"
     ]
    }
   ],
   "source": [
    "import pandas as pd\n",
    "import numpy as np\n",
    "from sklearn import datasets\n",
    "from sklearn.model_selection import cross_val_score\n",
    "from sklearn.metrics import mean_absolute_error, mean_squared_error\n",
    "from sklearn.linear_model import LogisticRegression\n",
    "from sklearn.metrics import accuracy_score, confusion_matrix\n",
    "from sklearn.model_selection import train_test_split, RandomizedSearchCV\n",
    "import optuna"
   ]
  },
  {
   "cell_type": "code",
   "execution_count": 2,
   "metadata": {},
   "outputs": [
    {
     "data": {
      "text/html": [
       "<div>\n",
       "<style scoped>\n",
       "    .dataframe tbody tr th:only-of-type {\n",
       "        vertical-align: middle;\n",
       "    }\n",
       "\n",
       "    .dataframe tbody tr th {\n",
       "        vertical-align: top;\n",
       "    }\n",
       "\n",
       "    .dataframe thead th {\n",
       "        text-align: right;\n",
       "    }\n",
       "</style>\n",
       "<table border=\"1\" class=\"dataframe\">\n",
       "  <thead>\n",
       "    <tr style=\"text-align: right;\">\n",
       "      <th></th>\n",
       "      <th>Pregnancies</th>\n",
       "      <th>Glucose</th>\n",
       "      <th>BloodPressure</th>\n",
       "      <th>SkinThickness</th>\n",
       "      <th>Insulin</th>\n",
       "      <th>BMI</th>\n",
       "      <th>DiabetesPedigreeFunction</th>\n",
       "      <th>Age</th>\n",
       "      <th>Outcome</th>\n",
       "    </tr>\n",
       "  </thead>\n",
       "  <tbody>\n",
       "    <tr>\n",
       "      <th>0</th>\n",
       "      <td>6</td>\n",
       "      <td>148</td>\n",
       "      <td>72</td>\n",
       "      <td>35</td>\n",
       "      <td>0</td>\n",
       "      <td>33.6</td>\n",
       "      <td>0.627</td>\n",
       "      <td>50</td>\n",
       "      <td>1</td>\n",
       "    </tr>\n",
       "    <tr>\n",
       "      <th>1</th>\n",
       "      <td>1</td>\n",
       "      <td>85</td>\n",
       "      <td>66</td>\n",
       "      <td>29</td>\n",
       "      <td>0</td>\n",
       "      <td>26.6</td>\n",
       "      <td>0.351</td>\n",
       "      <td>31</td>\n",
       "      <td>0</td>\n",
       "    </tr>\n",
       "    <tr>\n",
       "      <th>2</th>\n",
       "      <td>8</td>\n",
       "      <td>183</td>\n",
       "      <td>64</td>\n",
       "      <td>0</td>\n",
       "      <td>0</td>\n",
       "      <td>23.3</td>\n",
       "      <td>0.672</td>\n",
       "      <td>32</td>\n",
       "      <td>1</td>\n",
       "    </tr>\n",
       "    <tr>\n",
       "      <th>3</th>\n",
       "      <td>1</td>\n",
       "      <td>89</td>\n",
       "      <td>66</td>\n",
       "      <td>23</td>\n",
       "      <td>94</td>\n",
       "      <td>28.1</td>\n",
       "      <td>0.167</td>\n",
       "      <td>21</td>\n",
       "      <td>0</td>\n",
       "    </tr>\n",
       "    <tr>\n",
       "      <th>4</th>\n",
       "      <td>0</td>\n",
       "      <td>137</td>\n",
       "      <td>40</td>\n",
       "      <td>35</td>\n",
       "      <td>168</td>\n",
       "      <td>43.1</td>\n",
       "      <td>2.288</td>\n",
       "      <td>33</td>\n",
       "      <td>1</td>\n",
       "    </tr>\n",
       "  </tbody>\n",
       "</table>\n",
       "</div>"
      ],
      "text/plain": [
       "   Pregnancies  Glucose  BloodPressure  SkinThickness  Insulin   BMI  \\\n",
       "0            6      148             72             35        0  33.6   \n",
       "1            1       85             66             29        0  26.6   \n",
       "2            8      183             64              0        0  23.3   \n",
       "3            1       89             66             23       94  28.1   \n",
       "4            0      137             40             35      168  43.1   \n",
       "\n",
       "   DiabetesPedigreeFunction  Age  Outcome  \n",
       "0                     0.627   50        1  \n",
       "1                     0.351   31        0  \n",
       "2                     0.672   32        1  \n",
       "3                     0.167   21        0  \n",
       "4                     2.288   33        1  "
      ]
     },
     "execution_count": 2,
     "metadata": {},
     "output_type": "execute_result"
    }
   ],
   "source": [
    "df = pd.read_csv('folders\\dataset\\diabetes.csv')\n",
    "df.head()"
   ]
  },
  {
   "cell_type": "code",
   "execution_count": 11,
   "metadata": {},
   "outputs": [],
   "source": [
    "from scipy import stats\n",
    "df = df[(np.abs(stats.zscore(df)) < 3).all(axis=1)]"
   ]
  },
  {
   "cell_type": "code",
   "execution_count": 13,
   "metadata": {},
   "outputs": [],
   "source": [
    "import pandas as pd\n",
    "import itertools\n",
    "import numpy as np\n",
    "import seaborn as sns\n",
    "from scipy.stats import pearsonr, ttest_ind"
   ]
  },
  {
   "cell_type": "code",
   "execution_count": 17,
   "metadata": {},
   "outputs": [
    {
     "name": "stdout",
     "output_type": "stream",
     "text": [
      "<class 'pandas.core.frame.DataFrame'>\n",
      "Index: 36 entries, Pregnancies__Glucose to Age__Outcome\n",
      "Data columns (total 2 columns):\n",
      " #   Column   Non-Null Count  Dtype  \n",
      "---  ------   --------------  -----  \n",
      " 0   stat     36 non-null     float64\n",
      " 1   p-value  36 non-null     float64\n",
      "dtypes: float64(2)\n",
      "memory usage: 864.0+ bytes\n"
     ]
    }
   ],
   "source": [
    "corrs = {}\n",
    "columns = df.columns.tolist()\n",
    "for col_a, col_b in itertools.combinations(columns, 2):\n",
    "    corrs[col_a + '__' + col_b] = pearsonr(df.loc[:, col_a], df.loc[:, col_b])\n",
    "result = pd.DataFrame.from_dict(corrs, orient='index')\n",
    "result.columns = ['stat', 'p-value']\n",
    "result.info()"
   ]
  },
  {
   "cell_type": "code",
   "execution_count": 18,
   "metadata": {},
   "outputs": [
    {
     "name": "stdout",
     "output_type": "stream",
     "text": [
      "<class 'pandas.core.frame.DataFrame'>\n",
      "Index: 27 entries, Pregnancies__Glucose to Age__Outcome\n",
      "Data columns (total 2 columns):\n",
      " #   Column   Non-Null Count  Dtype  \n",
      "---  ------   --------------  -----  \n",
      " 0   stat     27 non-null     float64\n",
      " 1   p-value  27 non-null     float64\n",
      "dtypes: float64(2)\n",
      "memory usage: 648.0+ bytes\n"
     ]
    }
   ],
   "source": [
    "# если значение p < 0,05, мы приходим к выводу, что существует статистически значимая связь между этими двумя переменными.\n",
    "# if result['p-value'] >= 0.05:\n",
    "res = result[result['p-value'] < 0.05]\n",
    "res.info()"
   ]
  },
  {
   "cell_type": "code",
   "execution_count": 11,
   "metadata": {},
   "outputs": [
    {
     "data": {
      "text/plain": [
       "((614, 8), (154, 8), (614,), (154,))"
      ]
     },
     "execution_count": 11,
     "metadata": {},
     "output_type": "execute_result"
    }
   ],
   "source": [
    "X_train, X_test, Y_train, Y_test = train_test_split(df.iloc[: , :-1],df.iloc[: , -1], train_size=0.8, random_state=123)\n",
    "\n",
    "X_train.shape, X_test.shape, Y_train.shape, Y_test.shape"
   ]
  },
  {
   "cell_type": "code",
   "execution_count": 12,
   "metadata": {},
   "outputs": [],
   "source": [
    "def objective(trial):\n",
    "    penalty = trial.suggest_categorical(\"penalty\", [\"l1\", \"l2\"])\n",
    "    tol = trial.suggest_float(\"tol\", 0.0001, 0.01, log=True)\n",
    "    C = trial.suggest_float(\"C\", 1.0, 10.0, log=True)\n",
    "    intercept = trial.suggest_categorical(\"fit_intercept\", [True, False])\n",
    "    solver = trial.suggest_categorical(\"solver\", [\"liblinear\", \"saga\"])\n",
    "\n",
    "    ## Create Model\n",
    "    classifier = LogisticRegression(penalty=penalty,\n",
    "                                    tol=tol,\n",
    "                                    C=C,\n",
    "                                    fit_intercept=intercept,\n",
    "                                    solver=solver,\n",
    "                                    multi_class=\"auto\",\n",
    "                                   )\n",
    "    ## Fit Model\n",
    "    classifier.fit(X_train, Y_train)\n",
    "\n",
    "    return classifier.score(X_test, Y_test)"
   ]
  },
  {
   "cell_type": "code",
   "execution_count": null,
   "metadata": {},
   "outputs": [],
   "source": [
    "%%time\n",
    "\n",
    "study3 = optuna.create_study(study_name=\"LogisticRegression\", direction=\"maximize\")\n",
    "study3.optimize(objective, n_trials=8)"
   ]
  },
  {
   "cell_type": "code",
   "execution_count": 23,
   "metadata": {},
   "outputs": [
    {
     "name": "stdout",
     "output_type": "stream",
     "text": [
      "Best Params : {'penalty': 'l1', 'tol': 0.009849725351692103, 'C': 6.272253330656255, 'fit_intercept': True, 'solver': 'liblinear'}\n",
      "\n",
      "Best Accuracy : 0.7987012987012987\n"
     ]
    }
   ],
   "source": [
    "print(\"Best Params : {}\".format(study3.best_params))\n",
    "\n",
    "print(\"\\nBest Accuracy : {}\".format(study3.best_value))"
   ]
  },
  {
   "cell_type": "code",
   "execution_count": 28,
   "metadata": {},
   "outputs": [
    {
     "name": "stdout",
     "output_type": "stream",
     "text": [
      "Logistic Regression Accuracy on Train Dataset : 0.7768729641693811\n",
      "Logistic Regression Accuracy on Test  Dataset : 0.8051948051948052\n"
     ]
    }
   ],
   "source": [
    "classifier = LogisticRegression(**study3.best_params, multi_class=\"auto\")\n",
    "\n",
    "classifier.fit(X_train, Y_train)\n",
    "\n",
    "print(\"Logistic Regression Accuracy on Train Dataset : {}\".format(classifier.score(X_train, Y_train)))\n",
    "print(\"Logistic Regression Accuracy on Test  Dataset : {}\".format(classifier.score(X_test, Y_test)))"
   ]
  },
  {
   "cell_type": "code",
   "execution_count": null,
   "metadata": {},
   "outputs": [],
   "source": [
    "%%time\n",
    "\n",
    "param_grid = {\n",
    "              \"penalty\": [\"l1\", \"l2\"],\n",
    "              \"C\" : np.linspace(1, 10.0, 25),\n",
    "              \"fit_intercept\": [True, False],\n",
    "              \"tol\": np.linspace(0.0001, 0.01,10),\n",
    "              \"solver\": [\"liblinear\", \"saga\"]\n",
    "             }\n",
    "\n",
    "grid = RandomizedSearchCV(LogisticRegression(multi_class=\"auto\", max_iter=1000), param_grid, cv=5, n_iter=25, random_state=123)\n",
    "\n",
    "grid.fit(X_train, Y_train)\n",
    "\n",
    "grid.best_params_"
   ]
  },
  {
   "cell_type": "code",
   "execution_count": 32,
   "metadata": {},
   "outputs": [
    {
     "name": "stdout",
     "output_type": "stream",
     "text": [
      "Logistic Regression Accuracy on Train Dataset : 0.7719869706840391\n",
      "Logistic Regression Accuracy on Test  Dataset : 0.8051948051948052\n"
     ]
    }
   ],
   "source": [
    "classifier = LogisticRegression(**grid.best_params_, multi_class=\"auto\")\n",
    "\n",
    "classifier.fit(X_train, Y_train)\n",
    "\n",
    "print(\"Logistic Regression Accuracy on Train Dataset : {}\".format(classifier.score(X_train, Y_train)))\n",
    "print(\"Logistic Regression Accuracy on Test  Dataset : {}\".format(classifier.score(X_test, Y_test)))"
   ]
  }
 ],
 "metadata": {
  "kernelspec": {
   "display_name": "Python 3.10.5 ('venv': venv)",
   "language": "python",
   "name": "python3"
  },
  "language_info": {
   "codemirror_mode": {
    "name": "ipython",
    "version": 3
   },
   "file_extension": ".py",
   "mimetype": "text/x-python",
   "name": "python",
   "nbconvert_exporter": "python",
   "pygments_lexer": "ipython3",
   "version": "3.10.5"
  },
  "orig_nbformat": 4,
  "vscode": {
   "interpreter": {
    "hash": "e88e6873e11e22fca18c3ca3279c7782b99f3ba902611ffed5ffc710222baade"
   }
  }
 },
 "nbformat": 4,
 "nbformat_minor": 2
}
